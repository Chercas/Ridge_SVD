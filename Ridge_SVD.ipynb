{
 "cells": [
  {
   "cell_type": "code",
   "execution_count": 1,
   "metadata": {},
   "outputs": [],
   "source": [
    "from sklearn.base import RegressorMixin\n",
    "from sklearn.utils.validation import check_X_y, check_array, check_is_fitted\n",
    "\n",
    "class Ridge_SVD(RegressorMixin):\n",
    "    import numpy as np\n",
    "    from sklearn.metrics import r2_score\n",
    "    \n",
    "    def __init__(self, alpha=None):\n",
    "        \n",
    "        self.alpha = alpha\n",
    "        \n",
    "    def get_params(self, deep=True):\n",
    "        \n",
    "        return {'alpha': self.alpha}\n",
    "    \n",
    "    def set_params(self, **parameters):\n",
    "        for parameter, value in parameters.items():\n",
    "            setattr(self, parameter, value)\n",
    "        return self\n",
    "    \n",
    "    def fit(self, X, y):\n",
    "        \n",
    "        y = np.array(y).ravel()\n",
    "        X, y = check_X_y(X, y)\n",
    "        U, singular_values, V_T = np.linalg.svd(X, full_matrices=False)\n",
    "        n = len(singular_values)\n",
    "        Sigma_Ridge = np.zeros((n,n))\n",
    "        Sigma = np.zeros((n,n))\n",
    "        np.fill_diagonal(Sigma, singular_values)\n",
    "        np.fill_diagonal(Sigma_Ridge, 1/(singular_values**2+self.alpha))\n",
    "        #print(f'{V_T.shape}, {Sigma_Ridge.shape}, {Sigma.shape}, {U.T.shape}, {y.shape}')\n",
    "        self.beta_ =  V_T.T @ Sigma_Ridge @ Sigma @ U.T @ y\n",
    "        \n",
    "        return self\n",
    "    \n",
    "    def predict(self, X):\n",
    "        \n",
    "        check_is_fitted(self)\n",
    "        X = check_array(X)\n",
    "        \n",
    "        return X @ self.beta_\n",
    "    \n",
    "    def score(self, X, y):\n",
    "        \n",
    "        check_is_fitted(self)\n",
    "        X = check_array(X)\n",
    "        \n",
    "        return r2_score(y, X @ self.beta_)"
   ]
  }
 ],
 "metadata": {
  "kernelspec": {
   "display_name": "Python 3",
   "language": "python",
   "name": "python3"
  },
  "language_info": {
   "codemirror_mode": {
    "name": "ipython",
    "version": 3
   },
   "file_extension": ".py",
   "mimetype": "text/x-python",
   "name": "python",
   "nbconvert_exporter": "python",
   "pygments_lexer": "ipython3",
   "version": "3.7.8"
  }
 },
 "nbformat": 4,
 "nbformat_minor": 4
}
